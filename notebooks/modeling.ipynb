{
 "cells": [
  {
   "cell_type": "code",
   "execution_count": 1,
   "metadata": {},
   "outputs": [],
   "source": [
    "import pandas as pd\n",
    "import joblib\n",
    "import numpy as np\n",
    "from sklearn.model_selection import train_test_split\n",
    "from sklearn.preprocessing import StandardScaler\n",
    "from sklearn.impute import SimpleImputer\n",
    "from sklearn.model_selection import cross_val_score\n",
    "from sklearn.linear_model import LinearRegression\n",
    "from sklearn.tree import DecisionTreeRegressor\n",
    "from sklearn.ensemble import RandomForestRegressor\n",
    "from sklearn.metrics import mean_squared_error, r2_score"
   ]
  },
  {
   "cell_type": "code",
   "execution_count": 2,
   "metadata": {},
   "outputs": [],
   "source": [
    "# Load the given data\n",
    "benin_df = pd.read_csv(r'C:\\Users\\Eyor.G\\Pictures\\Projects\\solar-site-optimizer\\data\\raw\\benin-malanville.csv', parse_dates=[\"Timestamp\"])\n",
    "benin_df.drop('Comments', axis=1, inplace=True)"
   ]
  },
  {
   "cell_type": "code",
   "execution_count": 3,
   "metadata": {},
   "outputs": [],
   "source": [
    "# Scaling Numerical features\n",
    "scaler = StandardScaler()\n",
    "numerical_cols = benin_df.select_dtypes(include=['float64', 'int64']).columns\n",
    "benin_df[numerical_cols] = scaler.fit_transform(benin_df[numerical_cols])"
   ]
  },
  {
   "cell_type": "code",
   "execution_count": 4,
   "metadata": {},
   "outputs": [],
   "source": [
    "# Spliting data\n",
    "selected_features = ['GHI', 'DNI', 'DHI', 'Tamb', 'TModA', 'TModB']\n",
    "\n",
    "x = benin_df[selected_features] # Best correlated features\n",
    "y = benin_df['ModA'] # Target variable (Solar power output)\n",
    "\n",
    "# ModA is highly correlated with GHI (0.994), DNI (0.892), and DHI (0.829).\n",
    "# Including irrelevant features may introduce noise and reduce model performance."
   ]
  },
  {
   "cell_type": "code",
   "execution_count": 5,
   "metadata": {},
   "outputs": [],
   "source": [
    "# Split the dataset into 80-20\n",
    "X_train, X_test, y_train, y_test = train_test_split(x, y, test_size=0.2, random_state=42)"
   ]
  },
  {
   "cell_type": "markdown",
   "metadata": {},
   "source": [
    "# **Model Building**"
   ]
  },
  {
   "cell_type": "code",
   "execution_count": 6,
   "metadata": {},
   "outputs": [],
   "source": [
    "lr = LinearRegression()\n",
    "dt = DecisionTreeRegressor(random_state=42)\n",
    "rf = RandomForestRegressor(n_estimators=100, random_state=42)\n",
    "\n",
    "models = {'Liner Regression': lr,\n",
    "          'Decision Tree': dt,\n",
    "          'Random Forest': rf}\n",
    "\n",
    "results = {}"
   ]
  },
  {
   "cell_type": "code",
   "execution_count": 8,
   "metadata": {},
   "outputs": [],
   "source": [
    "# Perform cross-validation and collect results\n",
    "for model_name, model in models.items():\n",
    "    # Cross-validation for R-squared\n",
    "    r2_scores = cross_val_score(model, X_train, y_train, cv=3, scoring='r2')\n",
    "    average_r2 = r2_scores.mean()\n",
    "\n",
    "    # Cross-validation for RMSE using negative MSE\n",
    "    mse_scores = cross_val_score(model, X_train, y_train, cv=3, scoring='neg_mean_squared_error')\n",
    "    average_rmse = np.sqrt(-mse_scores.mean())  # Convert negative MSE to RMSE\n",
    "\n",
    "    results[model_name] = {'RMSE': average_rmse, 'R Squared': average_r2}\n",
    "\n",
    "# Print the results and find the best model\n",
    "best_model_name = None\n",
    "best_model = None\n",
    "best_rmse = float('inf')"
   ]
  },
  {
   "cell_type": "code",
   "execution_count": null,
   "metadata": {},
   "outputs": [
    {
     "name": "stdout",
     "output_type": "stream",
     "text": [
      "Liner Regression - RMSE: 0.0895, R Squared: 0.9920\n",
      "Decision Tree - RMSE: 0.0621, R Squared: 0.9961\n",
      "Random Forest - RMSE: 0.0428, R Squared: 0.9982\n"
     ]
    }
   ],
   "source": [
    "for model_name, result in results.items():\n",
    "    print(f'{model_name} - RMSE: {result[\"RMSE\"]:.4f}, R Squared: {result[\"R Squared\"]:.4f}')\n",
    "    if result['RMSE'] < best_rmse:  # Find the model with the lowest RMSE\n",
    "        best_rmse = result['RMSE']\n",
    "        best_model_name = model_name\n",
    "        best_model = models[model_name]"
   ]
  },
  {
   "cell_type": "code",
   "execution_count": 11,
   "metadata": {},
   "outputs": [
    {
     "name": "stdout",
     "output_type": "stream",
     "text": [
      "Saved the best model: Random Forest with RMSE: 0.0428\n"
     ]
    }
   ],
   "source": [
    "# Save the best model\n",
    "if best_model is not None:\n",
    "    joblib.dump(best_model, f'{best_model_name.replace(\" \", \"_\").lower()}_model.pkl')\n",
    "    print(f'Saved the best model: {best_model_name} with RMSE: {best_rmse:.4f}')"
   ]
  }
 ],
 "metadata": {
  "kernelspec": {
   "display_name": "Python 3",
   "language": "python",
   "name": "python3"
  },
  "language_info": {
   "codemirror_mode": {
    "name": "ipython",
    "version": 3
   },
   "file_extension": ".py",
   "mimetype": "text/x-python",
   "name": "python",
   "nbconvert_exporter": "python",
   "pygments_lexer": "ipython3",
   "version": "3.12.2"
  }
 },
 "nbformat": 4,
 "nbformat_minor": 2
}
